{
 "cells": [
  {
   "cell_type": "markdown",
   "metadata": {},
   "source": [
    "# Результаты тестирования релиза 3.03.001.008"
   ]
  },
  {
   "cell_type": "markdown",
   "metadata": {},
   "source": [
    "## Тест 1. Проверка исправления в рамках заявок 711900 и 710053 джоба pj005_F_SPU_STAJ_AGGR_p1Проверка корректности расчета стажа."
   ]
  },
  {
   "cell_type": "markdown",
   "metadata": {},
   "source": [
    "### Шаг 1\n",
    "Выполнить запрос на подсчет стажа на DWH для снилса 36539384 "
   ]
  },
  {
   "cell_type": "code",
   "execution_count": 5,
   "metadata": {},
   "outputs": [
    {
     "name": "stdout",
     "output_type": "stream",
     "text": [
      "Общий стаж:  12 лет 11 месяцев 21 дней \n",
      "\n"
     ]
    },
    {
     "data": {
      "text/plain": [
       "SNILS\n",
       "36539384    4671\n",
       "Name: P_DAY1, dtype: int64"
      ]
     },
     "execution_count": 5,
     "metadata": {},
     "output_type": "execute_result"
    }
   ],
   "source": [
    "#В среде сопровождения DWH\n",
    "staj_FAT = pd.read_csv('FAT_3.03.001.008_test1_step1.sql.csv')\n",
    "stajdwh(staj_FAT)"
   ]
  },
  {
   "cell_type": "code",
   "execution_count": 6,
   "metadata": {},
   "outputs": [
    {
     "name": "stdout",
     "output_type": "stream",
     "text": [
      "Общий стаж:  14 лет 8 месяцев 24 дней \n",
      "\n"
     ]
    },
    {
     "data": {
      "text/plain": [
       "SNILS\n",
       "36539384    5304\n",
       "Name: P_DAY1, dtype: int64"
      ]
     },
     "execution_count": 6,
     "metadata": {},
     "output_type": "execute_result"
    }
   ],
   "source": [
    "# В среде эксплуатации DWH\n",
    "staj_RTP = pd.read_csv('RTP_3.03.001.008_test1_step1.sql.csv')\n",
    "stajdwh(staj_RTP)"
   ]
  },
  {
   "cell_type": "markdown",
   "metadata": {},
   "source": [
    "### ШАГ 2\n",
    "Выполнить запрос подсчет стажа на  DMR005 для снилса 36539384:"
   ]
  },
  {
   "cell_type": "code",
   "execution_count": null,
   "metadata": {},
   "outputs": [],
   "source": []
  },
  {
   "cell_type": "code",
   "execution_count": null,
   "metadata": {},
   "outputs": [],
   "source": []
  },
  {
   "cell_type": "markdown",
   "metadata": {},
   "source": [
    "## Тест 2.\tПроверка исправления в рамках заявки 727511 «Некорректные сведения о факте работы по адвокату на ВИР»"
   ]
  },
  {
   "cell_type": "markdown",
   "metadata": {},
   "source": [
    "### Шаг 1\n",
    "Выполнить в web-браузере (Google Chrome, Mozilla Firefox) запрос вида: \n",
    "    http://10.128.241.17:8080/report/query?query=SPUgetPeriodWorkingZLP&Snils=7117960360&PeriodStart=2019-11-01&PeriodEnd=2019-11-30"
   ]
  },
  {
   "cell_type": "markdown",
   "metadata": {},
   "source": [
    "Ожидаемый результат: Для одного месяца для одного источника только 1 запись."
   ]
  },
  {
   "cell_type": "code",
   "execution_count": 7,
   "metadata": {},
   "outputs": [
    {
     "data": {
      "text/html": [
       "<div>\n",
       "<style scoped>\n",
       "    .dataframe tbody tr th:only-of-type {\n",
       "        vertical-align: middle;\n",
       "    }\n",
       "\n",
       "    .dataframe tbody tr th {\n",
       "        vertical-align: top;\n",
       "    }\n",
       "\n",
       "    .dataframe thead th {\n",
       "        text-align: right;\n",
       "    }\n",
       "</style>\n",
       "<table border=\"1\" class=\"dataframe\">\n",
       "  <thead>\n",
       "    <tr style=\"text-align: right;\">\n",
       "      <th></th>\n",
       "      <th>&lt;?xml version=\"1.0\" encoding=\"UTF-8\"?&gt;</th>\n",
       "    </tr>\n",
       "  </thead>\n",
       "  <tbody>\n",
       "    <tr>\n",
       "      <th>0</th>\n",
       "      <td>&lt;vir:SPUgetPeriodWorkingZLResponse xmlns:vir=\"...</td>\n",
       "    </tr>\n",
       "    <tr>\n",
       "      <th>1</th>\n",
       "      <td>&lt;vir:FamilyName&gt;АЛДРСАЕНХ&lt;/vir:FamilyName&gt;</td>\n",
       "    </tr>\n",
       "    <tr>\n",
       "      <th>2</th>\n",
       "      <td>&lt;vir:FirstName&gt;УБДЩДЕУР&lt;/vir:FirstName&gt;</td>\n",
       "    </tr>\n",
       "    <tr>\n",
       "      <th>3</th>\n",
       "      <td>&lt;vir:Patronymic&gt;ЕТРУЛАДОТМ&lt;/vir:Patronymic&gt;</td>\n",
       "    </tr>\n",
       "    <tr>\n",
       "      <th>4</th>\n",
       "      <td>&lt;vir:Snils&gt;7117960360&lt;/vir:Snils&gt;</td>\n",
       "    </tr>\n",
       "    <tr>\n",
       "      <th>5</th>\n",
       "      <td>&lt;vir:PeriodStart&gt;2019-11-01&lt;/vir:PeriodStart&gt;</td>\n",
       "    </tr>\n",
       "    <tr>\n",
       "      <th>6</th>\n",
       "      <td>&lt;vir:PeriodEnd&gt;2019-11-30&lt;/vir:PeriodEnd&gt;</td>\n",
       "    </tr>\n",
       "    <tr>\n",
       "      <th>7</th>\n",
       "      <td>&lt;vir:Periods&gt;</td>\n",
       "    </tr>\n",
       "    <tr>\n",
       "      <th>8</th>\n",
       "      <td>&lt;vir:Period&gt;</td>\n",
       "    </tr>\n",
       "    <tr>\n",
       "      <th>9</th>\n",
       "      <td>&lt;vir:RegNum&gt;52049014129&lt;/vir:RegNum&gt;</td>\n",
       "    </tr>\n",
       "    <tr>\n",
       "      <th>10</th>\n",
       "      <td>&lt;vir:ShortName&gt;УБДЩДЕУР АЛДРСАЕНХ ЕТРУЛАДОТМ&lt;/...</td>\n",
       "    </tr>\n",
       "    <tr>\n",
       "      <th>11</th>\n",
       "      <td>&lt;vir:ReportYear&gt;2019&lt;/vir:ReportYear&gt;</td>\n",
       "    </tr>\n",
       "    <tr>\n",
       "      <th>12</th>\n",
       "      <td>&lt;vir:ReportMonth&gt;11&lt;/vir:ReportMonth&gt;</td>\n",
       "    </tr>\n",
       "    <tr>\n",
       "      <th>13</th>\n",
       "      <td>&lt;vir:ReportDate&gt;2011-04-15&lt;/vir:ReportDate&gt;</td>\n",
       "    </tr>\n",
       "    <tr>\n",
       "      <th>14</th>\n",
       "      <td>&lt;vir:JobStatus&gt;Д&lt;/vir:JobStatus&gt;</td>\n",
       "    </tr>\n",
       "    <tr>\n",
       "      <th>15</th>\n",
       "      <td>&lt;vir:SourceName&gt;АСВ&lt;/vir:SourceName&gt;</td>\n",
       "    </tr>\n",
       "    <tr>\n",
       "      <th>16</th>\n",
       "      <td>&lt;/vir:Period&gt;</td>\n",
       "    </tr>\n",
       "    <tr>\n",
       "      <th>17</th>\n",
       "      <td>&lt;/vir:Periods&gt;</td>\n",
       "    </tr>\n",
       "    <tr>\n",
       "      <th>18</th>\n",
       "      <td>&lt;vir:ResponseDateTime&gt;2020-06-10T16:19:43&lt;/vir...</td>\n",
       "    </tr>\n",
       "    <tr>\n",
       "      <th>19</th>\n",
       "      <td>&lt;/vir:SPUgetPeriodWorkingZLResponse&gt;</td>\n",
       "    </tr>\n",
       "  </tbody>\n",
       "</table>\n",
       "</div>"
      ],
      "text/plain": [
       "               <?xml version=\"1.0\" encoding=\"UTF-8\"?>\n",
       "0   <vir:SPUgetPeriodWorkingZLResponse xmlns:vir=\"...\n",
       "1          <vir:FamilyName>АЛДРСАЕНХ</vir:FamilyName>\n",
       "2             <vir:FirstName>УБДЩДЕУР</vir:FirstName>\n",
       "3         <vir:Patronymic>ЕТРУЛАДОТМ</vir:Patronymic>\n",
       "4                   <vir:Snils>7117960360</vir:Snils>\n",
       "5       <vir:PeriodStart>2019-11-01</vir:PeriodStart>\n",
       "6           <vir:PeriodEnd>2019-11-30</vir:PeriodEnd>\n",
       "7                                       <vir:Periods>\n",
       "8                                        <vir:Period>\n",
       "9                <vir:RegNum>52049014129</vir:RegNum>\n",
       "10  <vir:ShortName>УБДЩДЕУР АЛДРСАЕНХ ЕТРУЛАДОТМ</...\n",
       "11              <vir:ReportYear>2019</vir:ReportYear>\n",
       "12              <vir:ReportMonth>11</vir:ReportMonth>\n",
       "13        <vir:ReportDate>2011-04-15</vir:ReportDate>\n",
       "14                   <vir:JobStatus>Д</vir:JobStatus>\n",
       "15               <vir:SourceName>АСВ</vir:SourceName>\n",
       "16                                      </vir:Period>\n",
       "17                                     </vir:Periods>\n",
       "18  <vir:ResponseDateTime>2020-06-10T16:19:43</vir...\n",
       "19               </vir:SPUgetPeriodWorkingZLResponse>"
      ]
     },
     "execution_count": 7,
     "metadata": {},
     "output_type": "execute_result"
    }
   ],
   "source": [
    "# Фактический результат\n",
    "# Для одного месяца для одного источника только 1 запись:\n",
    "pd.read_csv('SPUgetPeriodWorkingZLP_1.xml', encoding='utf-8', sep = '\\n')"
   ]
  },
  {
   "cell_type": "markdown",
   "metadata": {},
   "source": [
    "## Тест 3.\tПроверка функции выборки данных для сервиса ВИР FBDPCharterNSU2 по РЗ -8045461."
   ]
  },
  {
   "cell_type": "markdown",
   "metadata": {},
   "source": [
    "### Шаг 1\n",
    "выбор данных для проверки"
   ]
  },
  {
   "cell_type": "markdown",
   "metadata": {},
   "source": [
    "Ожидаемый результат: \n",
    "<br>Результат: выборка по СНИЛС, подходящих для проверки"
   ]
  },
  {
   "cell_type": "code",
   "execution_count": 8,
   "metadata": {
    "scrolled": true
   },
   "outputs": [
    {
     "name": "stdout",
     "output_type": "stream",
     "text": [
      "<class 'pandas.core.frame.DataFrame'>\n",
      "RangeIndex: 1747 entries, 0 to 1746\n",
      "Data columns (total 3 columns):\n",
      " #   Column           Non-Null Count  Dtype \n",
      "---  ------           --------------  ----- \n",
      " 0   snils            1747 non-null   int64 \n",
      " 1   formatted_snils  1747 non-null   object\n",
      " 2   yes_nsu          1747 non-null   int64 \n",
      "dtypes: int64(2), object(1)\n",
      "memory usage: 41.1+ KB\n"
     ]
    }
   ],
   "source": [
    "# Фактический результат в среде САИП:\n",
    "# выборка по 1000 элементов\n",
    "nsu = pd.read_csv('3.03.001.008_test3_step1.sql.csv')\n",
    "nsu.info()"
   ]
  },
  {
   "cell_type": "code",
   "execution_count": 9,
   "metadata": {},
   "outputs": [
    {
     "data": {
      "text/plain": [
       "1739"
      ]
     },
     "execution_count": 9,
     "metadata": {},
     "output_type": "execute_result"
    }
   ],
   "source": [
    "nsu.snils.nunique()"
   ]
  },
  {
   "cell_type": "markdown",
   "metadata": {},
   "source": [
    "### 8 дубляжей"
   ]
  },
  {
   "cell_type": "markdown",
   "metadata": {},
   "source": [
    "### Шаг 2\n",
    "НЕТ права на НСУ, не пенсионер "
   ]
  },
  {
   "cell_type": "code",
   "execution_count": 11,
   "metadata": {},
   "outputs": [
    {
     "name": "stdout",
     "output_type": "stream",
     "text": [
      "12925631463 Error http://10.138.243.194:8080/report/query?query=FBDPCharterNSU2&Snils=12925631463\n",
      "9439642506 Error http://10.138.243.194:8080/report/query?query=FBDPCharterNSU2&Snils=9439642506\n",
      "894627174 Error http://10.138.243.194:8080/report/query?query=FBDPCharterNSU2&Snils=894627174\n",
      "1930732534 Error http://10.138.243.194:8080/report/query?query=FBDPCharterNSU2&Snils=1930732534\n",
      "131055964 Error http://10.138.243.194:8080/report/query?query=FBDPCharterNSU2&Snils=131055964\n",
      "769800869 Error http://10.138.243.194:8080/report/query?query=FBDPCharterNSU2&Snils=769800869\n",
      "5112236496 Error http://10.138.243.194:8080/report/query?query=FBDPCharterNSU2&Snils=5112236496\n",
      "2018527607 Error http://10.138.243.194:8080/report/query?query=FBDPCharterNSU2&Snils=2018527607\n"
     ]
    }
   ],
   "source": [
    "# Проверяем снилсы у которых yes_nsu = 0\n",
    "# Ожидаемый результат: 'Нет выплат по НСУ'\n",
    "nsu_no = nsu[nsu['yes_nsu'] == 0]\n",
    "for snils in nsu_no.snils:\n",
    "    url = 'http://10.138.243.194:8080/report/query?query=FBDPCharterNSU2&Snils=' + str(snils)\n",
    "    try:\n",
    "        xml = objectify.parse(url).getroot()\n",
    "        xml.Details\n",
    "        if xml.Details == 'Нет выплат по НСУ':\n",
    "            test_result = xml.Details, 'Тест пройден успешно'\n",
    "        else:\n",
    "            test_result = 'Error'\n",
    "            print(snils, test_result)\n",
    "    except:\n",
    "        test_result = 'Error'\n",
    "        print(snils, test_result, url)"
   ]
  },
  {
   "cell_type": "markdown",
   "metadata": {},
   "source": [
    "#### 8 снилсов у которых yes_nsu = 0 и yes_nsu = 1\n",
    "#### Необходимо скорректировать скрипт отбора снилсов на шаге 1"
   ]
  },
  {
   "cell_type": "markdown",
   "metadata": {},
   "source": [
    "### Шаг 3\n",
    "ЕСТЬ право на НСУ, не пенсионер"
   ]
  },
  {
   "cell_type": "code",
   "execution_count": 12,
   "metadata": {},
   "outputs": [
    {
     "name": "stdout",
     "output_type": "stream",
     "text": [
      "13892410879 ('Нет выплат по НСУ', 'Error') http://10.138.243.194:8080/report/query?query=FBDPCharterNSU2&Snils=13892410879\n",
      "12556125342 ('Нет выплат по НСУ', 'Error') http://10.138.243.194:8080/report/query?query=FBDPCharterNSU2&Snils=12556125342\n",
      "11008859728 ('Нет выплат по НСУ', 'Error') http://10.138.243.194:8080/report/query?query=FBDPCharterNSU2&Snils=11008859728\n",
      "1837654972 ('Нет выплат по НСУ', 'Error') http://10.138.243.194:8080/report/query?query=FBDPCharterNSU2&Snils=1837654972\n"
     ]
    }
   ],
   "source": [
    "# Проверяем снилсы у которых yes_nsu = 1\n",
    "# Ожидаемый результат: xml в которой указана Наименование, например: \"Ветераны боевых действий\"\n",
    "nsu_yes = nsu[nsu['yes_nsu'] == 1]\n",
    "for snils in nsu_yes.snils:\n",
    "    url = 'http://10.138.243.194:8080/report/query?query=FBDPCharterNSU2&Snils=' + str(snils)\n",
    "    try:\n",
    "        xml = objectify.parse(url).getroot()\n",
    "        xml.Details\n",
    "        if xml.Details == 'Нет выплат по НСУ':\n",
    "            test_result = xml.Details, 'Error'\n",
    "            print(snils, test_result, url)\n",
    "        else:\n",
    "            test_result = 'Тест прошел успешно'\n",
    "#         print(snils, test_result, url)\n",
    "    except:\n",
    "        br_xml = pd.read_csv(url, encoding='utf-8', names = ['broken_xml'])\n",
    "        text = br_xml.broken_xml[0]\n",
    "        result = re.findall(r'Наименование>\\w+', text)\n",
    "        for name in result:\n",
    "            name = name.replace(\"Наименование>\", \"\")\n",
    "            break\n",
    "        test_result = name, 'Тест прошел успешно'\n",
    "#         print(snils, test_result)"
   ]
  },
  {
   "cell_type": "markdown",
   "metadata": {},
   "source": [
    "#### Необходимо проверить эти снилсы, почему yes_nsu = 1, и нет выплат. Возможно, нужно скорректировать скрипт отборы снилсов для проверки"
   ]
  },
  {
   "cell_type": "code",
   "execution_count": null,
   "metadata": {},
   "outputs": [],
   "source": []
  },
  {
   "cell_type": "code",
   "execution_count": null,
   "metadata": {},
   "outputs": [],
   "source": []
  },
  {
   "cell_type": "code",
   "execution_count": null,
   "metadata": {},
   "outputs": [],
   "source": []
  },
  {
   "cell_type": "code",
   "execution_count": null,
   "metadata": {},
   "outputs": [],
   "source": []
  },
  {
   "cell_type": "code",
   "execution_count": 1,
   "metadata": {},
   "outputs": [],
   "source": [
    "import pandas as pd"
   ]
  },
  {
   "cell_type": "code",
   "execution_count": 2,
   "metadata": {},
   "outputs": [],
   "source": [
    "def stajdwh(staj_dwh):\n",
    "    staj = staj_dwh.P_DAY1.sum()\n",
    "    years = staj // 360\n",
    "    month = (staj - years*360) // 30\n",
    "    days = staj - years*360 - month*30\n",
    "    print('Общий стаж: ', years, 'лет', month, 'месяцев', days, 'дней \\n',)\n",
    "    return staj_dwh.groupby('SNILS').P_DAY1.sum().head()"
   ]
  },
  {
   "cell_type": "code",
   "execution_count": 3,
   "metadata": {},
   "outputs": [],
   "source": [
    "from lxml import objectify"
   ]
  },
  {
   "cell_type": "code",
   "execution_count": 4,
   "metadata": {},
   "outputs": [],
   "source": [
    "import re"
   ]
  },
  {
   "cell_type": "code",
   "execution_count": null,
   "metadata": {},
   "outputs": [],
   "source": []
  }
 ],
 "metadata": {
  "kernelspec": {
   "display_name": "Python 3",
   "language": "python",
   "name": "python3"
  },
  "language_info": {
   "codemirror_mode": {
    "name": "ipython",
    "version": 3
   },
   "file_extension": ".py",
   "mimetype": "text/x-python",
   "name": "python",
   "nbconvert_exporter": "python",
   "pygments_lexer": "ipython3",
   "version": "3.7.6"
  }
 },
 "nbformat": 4,
 "nbformat_minor": 4
}
