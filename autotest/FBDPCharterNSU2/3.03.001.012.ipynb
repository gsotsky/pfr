{
 "cells": [
  {
   "cell_type": "markdown",
   "metadata": {},
   "source": [
    "# «Предоставление справки, подтверждающей право на получение набора социальных услуг»"
   ]
  },
  {
   "cell_type": "markdown",
   "metadata": {},
   "source": [
    "Проверка доработки по РЗ\n",
    "-  8169069\n",
    "-  8132478\n",
    "-  8164882\n",
    "-  7984765"
   ]
  },
  {
   "cell_type": "code",
   "execution_count": 7,
   "metadata": {},
   "outputs": [
    {
     "name": "stdout",
     "output_type": "stream",
     "text": [
      "Время проверки 2020-07-02 10:26:31.214956\n"
     ]
    }
   ],
   "source": [
    "from datetime import datetime\n",
    "now = datetime.now()\n",
    "print('Время проверки', now)"
   ]
  },
  {
   "cell_type": "markdown",
   "metadata": {},
   "source": [
    "### Итог тестирования"
   ]
  },
  {
   "cell_type": "markdown",
   "metadata": {},
   "source": [
    "Лог файл:\n",
    "[FBDPCharterNSU2.csv](FBDPCharterNSU2.csv)"
   ]
  },
  {
   "cell_type": "code",
   "execution_count": 6,
   "metadata": {},
   "outputs": [
    {
     "name": "stdout",
     "output_type": "stream",
     "text": [
      "Тест пройден без ошибок\n"
     ]
    }
   ],
   "source": [
    "print(test_result_)"
   ]
  },
  {
   "cell_type": "markdown",
   "metadata": {},
   "source": [
    "### Методика тестирования"
   ]
  },
  {
   "cell_type": "markdown",
   "metadata": {},
   "source": [
    "1. Отбираем 100 случайных записей для проверки [select.sql](select.sql). Отбираются снилсы для которых дата окончания действия НСУ больше текущей даты, но код не равен ПРЕ или СНЯ. Для таких снилсов gsp_closure_date должно игнорироваться.\n",
    "2. Результат на САИП [result.csv](result.csv)\n",
    "3. Подставляем отобранные снилсы в строку http://10.138.243.194:8080/report/query?query=FBDPCharterNSU2&Snils=\n",
    "4. Если сервис выдает результат \"Нет выплат по НСУ\" - фиксируем, как ошибку.\n",
    "5. Тест признан успешно, если среди 100 снилсов, подходящих для проверки, нет ни одной ошибки. В лог файле записываются категории, по которым получаются НСУ."
   ]
  },
  {
   "cell_type": "code",
   "execution_count": 1,
   "metadata": {},
   "outputs": [],
   "source": [
    "import pandas as pd\n",
    "from lxml import objectify\n",
    "import re"
   ]
  },
  {
   "cell_type": "code",
   "execution_count": 2,
   "metadata": {},
   "outputs": [
    {
     "data": {
      "text/html": [
       "<div>\n",
       "<style scoped>\n",
       "    .dataframe tbody tr th:only-of-type {\n",
       "        vertical-align: middle;\n",
       "    }\n",
       "\n",
       "    .dataframe tbody tr th {\n",
       "        vertical-align: top;\n",
       "    }\n",
       "\n",
       "    .dataframe thead th {\n",
       "        text-align: right;\n",
       "    }\n",
       "</style>\n",
       "<table border=\"1\" class=\"dataframe\">\n",
       "  <thead>\n",
       "    <tr style=\"text-align: right;\">\n",
       "      <th></th>\n",
       "      <th>snils</th>\n",
       "      <th>formatted_snils</th>\n",
       "      <th>snils-2</th>\n",
       "      <th>formatted_snils-2</th>\n",
       "      <th>lastname</th>\n",
       "      <th>firstname</th>\n",
       "      <th>middlename</th>\n",
       "      <th>region</th>\n",
       "      <th>district</th>\n",
       "      <th>edv_category_1_code</th>\n",
       "      <th>...</th>\n",
       "      <th>edv_category_2</th>\n",
       "      <th>edv_start_date</th>\n",
       "      <th>edv_end_date</th>\n",
       "      <th>nsu_1</th>\n",
       "      <th>nsu_2</th>\n",
       "      <th>nsu_1_1</th>\n",
       "      <th>nsu_start_date</th>\n",
       "      <th>nsu_end_date</th>\n",
       "      <th>reportdate</th>\n",
       "      <th>gsp_agent_gid</th>\n",
       "    </tr>\n",
       "  </thead>\n",
       "  <tbody>\n",
       "    <tr>\n",
       "      <th>0</th>\n",
       "      <td>104329972</td>\n",
       "      <td>001-043-299 72</td>\n",
       "      <td>104329972</td>\n",
       "      <td>001-043-299 72</td>\n",
       "      <td>-1037845130</td>\n",
       "      <td>-188075262</td>\n",
       "      <td>786491028</td>\n",
       "      <td>62</td>\n",
       "      <td>1</td>\n",
       "      <td>81</td>\n",
       "      <td>...</td>\n",
       "      <td>Неизвестное значение 0</td>\n",
       "      <td>2014-04-01</td>\n",
       "      <td>7777-01-01</td>\n",
       "      <td>Да</td>\n",
       "      <td>Нет</td>\n",
       "      <td>Нет</td>\n",
       "      <td>2020-01-01</td>\n",
       "      <td>2020-12-31</td>\n",
       "      <td>2020-07-02</td>\n",
       "      <td>1328659676</td>\n",
       "    </tr>\n",
       "    <tr>\n",
       "      <th>1</th>\n",
       "      <td>104551165</td>\n",
       "      <td>001-045-511 65</td>\n",
       "      <td>104551165</td>\n",
       "      <td>001-045-511 65</td>\n",
       "      <td>1371954468</td>\n",
       "      <td>-1894049236</td>\n",
       "      <td>-1832892851</td>\n",
       "      <td>62</td>\n",
       "      <td>1</td>\n",
       "      <td>82</td>\n",
       "      <td>...</td>\n",
       "      <td>Неизвестное значение 0</td>\n",
       "      <td>2014-04-01</td>\n",
       "      <td>7777-01-01</td>\n",
       "      <td>Да</td>\n",
       "      <td>Да</td>\n",
       "      <td>Да</td>\n",
       "      <td>2020-01-01</td>\n",
       "      <td>2020-12-31</td>\n",
       "      <td>2020-07-02</td>\n",
       "      <td>1328870719</td>\n",
       "    </tr>\n",
       "    <tr>\n",
       "      <th>2</th>\n",
       "      <td>105093873</td>\n",
       "      <td>001-050-938 73</td>\n",
       "      <td>105093873</td>\n",
       "      <td>001-050-938 73</td>\n",
       "      <td>-670979141</td>\n",
       "      <td>-1626400237</td>\n",
       "      <td>-2116495581</td>\n",
       "      <td>62</td>\n",
       "      <td>1</td>\n",
       "      <td>83</td>\n",
       "      <td>...</td>\n",
       "      <td>Неизвестное значение 0</td>\n",
       "      <td>2016-08-05</td>\n",
       "      <td>7777-01-01</td>\n",
       "      <td>Да</td>\n",
       "      <td>Нет</td>\n",
       "      <td>Да</td>\n",
       "      <td>2020-01-01</td>\n",
       "      <td>2020-12-31</td>\n",
       "      <td>2020-07-02</td>\n",
       "      <td>1331382057</td>\n",
       "    </tr>\n",
       "    <tr>\n",
       "      <th>3</th>\n",
       "      <td>105857800</td>\n",
       "      <td>001-058-578 00</td>\n",
       "      <td>105857800</td>\n",
       "      <td>001-058-578 00</td>\n",
       "      <td>525511770</td>\n",
       "      <td>-1678095321</td>\n",
       "      <td>1068413127</td>\n",
       "      <td>62</td>\n",
       "      <td>1</td>\n",
       "      <td>83</td>\n",
       "      <td>...</td>\n",
       "      <td>Неизвестное значение 0</td>\n",
       "      <td>2015-10-09</td>\n",
       "      <td>7777-01-01</td>\n",
       "      <td>Да</td>\n",
       "      <td>Да</td>\n",
       "      <td>Да</td>\n",
       "      <td>2020-01-01</td>\n",
       "      <td>2020-12-31</td>\n",
       "      <td>2020-07-02</td>\n",
       "      <td>1328371070</td>\n",
       "    </tr>\n",
       "    <tr>\n",
       "      <th>4</th>\n",
       "      <td>106178179</td>\n",
       "      <td>001-061-781 79</td>\n",
       "      <td>106178179</td>\n",
       "      <td>001-061-781 79</td>\n",
       "      <td>-38596570</td>\n",
       "      <td>368567462</td>\n",
       "      <td>871462917</td>\n",
       "      <td>62</td>\n",
       "      <td>1</td>\n",
       "      <td>82</td>\n",
       "      <td>...</td>\n",
       "      <td>Неизвестное значение 0</td>\n",
       "      <td>2014-04-01</td>\n",
       "      <td>7777-01-01</td>\n",
       "      <td>Да</td>\n",
       "      <td>Да</td>\n",
       "      <td>Да</td>\n",
       "      <td>2020-01-01</td>\n",
       "      <td>2020-12-31</td>\n",
       "      <td>2020-07-02</td>\n",
       "      <td>1328767460</td>\n",
       "    </tr>\n",
       "  </tbody>\n",
       "</table>\n",
       "<p>5 rows × 22 columns</p>\n",
       "</div>"
      ],
      "text/plain": [
       "       snils formatted_snils    snils-2 formatted_snils-2    lastname  \\\n",
       "0  104329972  001-043-299 72  104329972    001-043-299 72 -1037845130   \n",
       "1  104551165  001-045-511 65  104551165    001-045-511 65  1371954468   \n",
       "2  105093873  001-050-938 73  105093873    001-050-938 73  -670979141   \n",
       "3  105857800  001-058-578 00  105857800    001-058-578 00   525511770   \n",
       "4  106178179  001-061-781 79  106178179    001-061-781 79   -38596570   \n",
       "\n",
       "    firstname  middlename  region  district  edv_category_1_code  ...  \\\n",
       "0  -188075262   786491028      62         1                   81  ...   \n",
       "1 -1894049236 -1832892851      62         1                   82  ...   \n",
       "2 -1626400237 -2116495581      62         1                   83  ...   \n",
       "3 -1678095321  1068413127      62         1                   83  ...   \n",
       "4   368567462   871462917      62         1                   82  ...   \n",
       "\n",
       "           edv_category_2  edv_start_date edv_end_date nsu_1 nsu_2 nsu_1_1  \\\n",
       "0  Неизвестное значение 0      2014-04-01   7777-01-01    Да   Нет     Нет   \n",
       "1  Неизвестное значение 0      2014-04-01   7777-01-01    Да    Да      Да   \n",
       "2  Неизвестное значение 0      2016-08-05   7777-01-01    Да   Нет      Да   \n",
       "3  Неизвестное значение 0      2015-10-09   7777-01-01    Да    Да      Да   \n",
       "4  Неизвестное значение 0      2014-04-01   7777-01-01    Да    Да      Да   \n",
       "\n",
       "  nsu_start_date nsu_end_date  reportdate gsp_agent_gid  \n",
       "0     2020-01-01   2020-12-31  2020-07-02    1328659676  \n",
       "1     2020-01-01   2020-12-31  2020-07-02    1328870719  \n",
       "2     2020-01-01   2020-12-31  2020-07-02    1331382057  \n",
       "3     2020-01-01   2020-12-31  2020-07-02    1328371070  \n",
       "4     2020-01-01   2020-12-31  2020-07-02    1328767460  \n",
       "\n",
       "[5 rows x 22 columns]"
      ]
     },
     "execution_count": 2,
     "metadata": {},
     "output_type": "execute_result"
    }
   ],
   "source": [
    "nsu = pd.read_csv('result.csv')\n",
    "nsu.head()"
   ]
  },
  {
   "cell_type": "code",
   "execution_count": 3,
   "metadata": {},
   "outputs": [],
   "source": [
    "list_of_result = {}\n",
    "for snils in nsu.snils:\n",
    "    url = 'http://10.138.243.194:8080/report/query?query=FBDPCharterNSU2&Snils=' + str(snils)\n",
    "    try:\n",
    "        xml = objectify.parse(url).getroot()\n",
    "        xml.Details\n",
    "        if xml.Details == 'Нет выплат по НСУ':\n",
    "            test_result = xml.Details, 'Error', url\n",
    "            list_of_result[snils] = test_result\n",
    "        elif xml.Message == 'Нет данных':\n",
    "            test_result = xml.Message, url\n",
    "            list_of_result[snils] = test_result\n",
    "        else:\n",
    "            test_result = 'Error', 'Какая то странная ошибка', url\n",
    "            list_of_result[snils] = test_result\n",
    "    except:\n",
    "        try:\n",
    "            br_xml = pd.read_csv(url, encoding='utf-8', names = ['broken_xml'])\n",
    "            text = br_xml.broken_xml[0]\n",
    "            result = re.findall(r'<Наименование>(.*?)</Наименование>', text)\n",
    "            test_result = result, 'Тест прошел успешно', url\n",
    "            list_of_result[snils] = test_result\n",
    "        except:\n",
    "            test_result = 'Error', 'Какая то странная ошибка', url\n",
    "            list_of_result[snils] = test_result"
   ]
  },
  {
   "cell_type": "code",
   "execution_count": 4,
   "metadata": {},
   "outputs": [],
   "source": [
    "## Ошибки:\n",
    "i = 0\n",
    "for Error in list_of_result.values():\n",
    "    if 'Error' in Error:\n",
    "        i += 1\n",
    "        print(Error)\n",
    "if i == 0:\n",
    "    test_result_ = 'Тест пройден без ошибок'\n",
    "else:\n",
    "    test_result_ = 'Количество ошибок:' +  i"
   ]
  },
  {
   "cell_type": "code",
   "execution_count": 5,
   "metadata": {},
   "outputs": [],
   "source": [
    "## Запись лога в файл:\n",
    "with open('FBDPCharterNSU2.csv', 'w') as f3write:\n",
    "    for key,val in list_of_result.items():\n",
    "        f3write.write('{}:{}\\n'.format(key,val))"
   ]
  },
  {
   "cell_type": "code",
   "execution_count": null,
   "metadata": {},
   "outputs": [],
   "source": []
  }
 ],
 "metadata": {
  "kernelspec": {
   "display_name": "Python 3",
   "language": "python",
   "name": "python3"
  },
  "language_info": {
   "codemirror_mode": {
    "name": "ipython",
    "version": 3
   },
   "file_extension": ".py",
   "mimetype": "text/x-python",
   "name": "python",
   "nbconvert_exporter": "python",
   "pygments_lexer": "ipython3",
   "version": "3.7.6"
  }
 },
 "nbformat": 4,
 "nbformat_minor": 4
}
