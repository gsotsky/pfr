{
 "cells": [
  {
   "cell_type": "markdown",
   "metadata": {},
   "source": [
    "# Проверка релиза 3.003.001.007(010)"
   ]
  },
  {
   "cell_type": "markdown",
   "metadata": {},
   "source": [
    "1. Отбираем снилсы для проверки [select.sql](select.sql)\n",
    "2. Результат на САИП [snils_emsk.csv](snils_emsk.csv)"
   ]
  },
  {
   "cell_type": "code",
   "execution_count": 1,
   "metadata": {},
   "outputs": [],
   "source": [
    "import pandas as pd\n",
    "from lxml import objectify\n",
    "import re"
   ]
  },
  {
   "cell_type": "code",
   "execution_count": 2,
   "metadata": {},
   "outputs": [
    {
     "name": "stdout",
     "output_type": "stream",
     "text": [
      "<class 'pandas.core.frame.DataFrame'>\n",
      "RangeIndex: 184 entries, 0 to 183\n",
      "Data columns (total 1 columns):\n",
      " #   Column   Non-Null Count  Dtype\n",
      "---  ------   --------------  -----\n",
      " 0   SNILSCS  184 non-null    int64\n",
      "dtypes: int64(1)\n",
      "memory usage: 1.6 KB\n"
     ]
    }
   ],
   "source": [
    "snils_emsk = pd.read_csv('snils_emsk.csv')\n",
    "snils_emsk.info()"
   ]
  },
  {
   "cell_type": "markdown",
   "metadata": {},
   "source": [
    "### Проверяем сервис по отобранным снилсам\n",
    "1. Если в XML находим \"По заданному СНИЛС сертификата не обнаружено\" - фиксируем, как ошибку\n",
    "2. Если в XML находим Фамилию (в тестовых средах в виде цифр или искаженных буква) - фиксируем, как успешный результат"
   ]
  },
  {
   "cell_type": "code",
   "execution_count": 3,
   "metadata": {},
   "outputs": [],
   "source": [
    "list_of_result = {}\n",
    "for snils in snils_emsk.SNILSCS:\n",
    "    url = 'http://10.138.243.194:8080/report/query?query=RemainingMSK&SNILS=' + str(snils)\n",
    "    try:\n",
    "        xml = objectify.parse(url).getroot()\n",
    "        xml.Details\n",
    "        if xml.Details == 'По заданному СНИЛС сертификата не обнаружено':\n",
    "            test_result = xml.Details, 'Error', url\n",
    "            list_of_result[snils] = test_result\n",
    "        else:\n",
    "            test_result = 'Error', 'Какая то странная ошибка', url\n",
    "            list_of_result[snils] = test_result\n",
    "    except:\n",
    "        try:\n",
    "            br_xml = pd.read_csv(url, encoding='utf-8', names = ['broken_xml'])\n",
    "            text = br_xml.broken_xml[0]\n",
    "            result = re.findall(r'<УТ2:Фамилия>(.*?)</УТ2:Фамилия>', text)\n",
    "            test_result = result, 'Тест прошел успешно', url\n",
    "            list_of_result[snils] = test_result\n",
    "        except:\n",
    "            test_result = 'Error', 'Какая то вторая странная ошибка', url\n",
    "            list_of_result[snils] = test_result"
   ]
  },
  {
   "cell_type": "code",
   "execution_count": 4,
   "metadata": {},
   "outputs": [],
   "source": [
    "## Запись лога в файл:\n",
    "with open('3.03.001.007_result_test.csv', 'w') as f3write:\n",
    "    for key,val in list_of_result.items():\n",
    "        f3write.write('{}:{}\\n'.format(key,val))"
   ]
  },
  {
   "cell_type": "markdown",
   "metadata": {},
   "source": [
    "Лог\n",
    "[3.03.001.007_result_test.csv](3.03.001.007_result_test.csv)"
   ]
  },
  {
   "cell_type": "code",
   "execution_count": 5,
   "metadata": {},
   "outputs": [
    {
     "name": "stdout",
     "output_type": "stream",
     "text": [
      "Тест пройден без ошибок\n",
      "Количество ошибок: 0\n"
     ]
    }
   ],
   "source": [
    "## Ошибки:\n",
    "i = 0\n",
    "for Error in list_of_result.values():\n",
    "    if 'Error' in Error:\n",
    "        i += 1\n",
    "        print(Error)\n",
    "if i == 0:\n",
    "    print('Тест пройден без ошибок')\n",
    "print('Количество ошибок:', i)"
   ]
  },
  {
   "cell_type": "code",
   "execution_count": null,
   "metadata": {},
   "outputs": [],
   "source": []
  }
 ],
 "metadata": {
  "kernelspec": {
   "display_name": "Python 3",
   "language": "python",
   "name": "python3"
  },
  "language_info": {
   "codemirror_mode": {
    "name": "ipython",
    "version": 3
   },
   "file_extension": ".py",
   "mimetype": "text/x-python",
   "name": "python",
   "nbconvert_exporter": "python",
   "pygments_lexer": "ipython3",
   "version": "3.7.6"
  }
 },
 "nbformat": 4,
 "nbformat_minor": 4
}
